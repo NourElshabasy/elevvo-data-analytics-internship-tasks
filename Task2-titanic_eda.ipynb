{
 "cells": [
  {
   "cell_type": "markdown",
   "id": "694a45ce",
   "metadata": {},
   "source": [
    "# Titanic Dataset - Exploratory Data Analysis\n",
    "\n",
    "In this notebook I explore and use the Titanic dataset to understand passenger demographics, survival rates, and relationships between different features. This task uses the titanic dataset from kaggle."
   ]
  },
  {
   "cell_type": "code",
   "execution_count": null,
   "id": "4d2431f8",
   "metadata": {},
   "outputs": [],
   "source": [
    "import pandas as pd\n",
    "import numpy as np\n",
    "import matplotlib.pyplot as plt\n",
    "import seaborn as sns"
   ]
  },
  {
   "cell_type": "markdown",
   "id": "80941c07",
   "metadata": {},
   "source": [
    "## Loading the Dataset\n",
    "Load the Titanic Dataset into a pandas DataFrame "
   ]
  },
  {
   "cell_type": "code",
   "execution_count": null,
   "id": "b6aaf40d",
   "metadata": {},
   "outputs": [],
   "source": [
    "# Loading and looking at the dataset\n",
    "\n",
    "df = pd.read_csv(\"Titanic-Dataset.csv\")\n",
    "\n",
    "print(\"Shape\", df.shape) # data.shape will return (rows, collums)\n",
    "display(df.head())       # data.head() returns the first 5 rows\n",
    "print(\"\\nColumns:\", df.columns.tolist())"
   ]
  },
  {
   "cell_type": "markdown",
   "id": "74f1679c",
   "metadata": {},
   "source": [
    "## Handling Missing Data\n",
    "Here I check which columns have missing values and decide how to handle them"
   ]
  },
  {
   "cell_type": "code",
   "execution_count": null,
   "id": "11c9281c",
   "metadata": {},
   "outputs": [],
   "source": [
    "# check the null counts of each collumn\n",
    "df.isna().sum()"
   ]
  },
  {
   "cell_type": "code",
   "execution_count": null,
   "id": "f0cb6fa0",
   "metadata": {},
   "outputs": [],
   "source": [
    "df['Embarked'].unique()"
   ]
  },
  {
   "cell_type": "code",
   "execution_count": null,
   "id": "40421ec8",
   "metadata": {},
   "outputs": [],
   "source": [
    "df[df['Embarked'].isna()]"
   ]
  },
  {
   "cell_type": "code",
   "execution_count": null,
   "id": "96f63e4c",
   "metadata": {},
   "outputs": [],
   "source": [
    "df['Embarked'].mode()"
   ]
  },
  {
   "cell_type": "code",
   "execution_count": null,
   "id": "07e26175",
   "metadata": {},
   "outputs": [],
   "source": [
    "df['Embarked'].fillna('S', inplace=True)    # fill missing values\n",
    "df['Embarked'].isnull().sum()               # check "
   ]
  },
  {
   "cell_type": "code",
   "execution_count": null,
   "id": "40ddcf28",
   "metadata": {},
   "outputs": [],
   "source": [
    "df['Age'].isnull().sum()    # check the missing values for Age"
   ]
  },
  {
   "cell_type": "code",
   "execution_count": null,
   "id": "ce7621a3",
   "metadata": {},
   "outputs": [],
   "source": [
    "df['Age'].fillna(df['Age'].median(), inplace=True) \n",
    "df['Age'].isnull().sum()"
   ]
  },
  {
   "cell_type": "code",
   "execution_count": null,
   "id": "c7e70d4d",
   "metadata": {},
   "outputs": [],
   "source": [
    "df.drop(columns=['Cabin'], inplace=True)    # because the Cabin column is mostly missing it is best to drop it"
   ]
  },
  {
   "cell_type": "code",
   "execution_count": null,
   "id": "867aba3b",
   "metadata": {},
   "outputs": [],
   "source": [
    "df.describe(include = 'object') # summary of data"
   ]
  },
  {
   "cell_type": "code",
   "execution_count": null,
   "id": "e163c4a5",
   "metadata": {},
   "outputs": [],
   "source": [
    "df.groupby('Sex')['Survived'].mean()    # survival by gender"
   ]
  },
  {
   "cell_type": "code",
   "execution_count": null,
   "id": "4c09fb9a",
   "metadata": {},
   "outputs": [],
   "source": [
    "df.groupby('Pclass')['Survived'].mean()     # survival by passenger class"
   ]
  },
  {
   "cell_type": "markdown",
   "id": "8cdc8be1",
   "metadata": {},
   "source": [
    "## Survival Analysis\n",
    "I visualize how survival varies by gender and passenger class using bar plots and a heatmap"
   ]
  },
  {
   "cell_type": "code",
   "execution_count": null,
   "id": "1e748af7",
   "metadata": {},
   "outputs": [],
   "source": [
    "sns.barplot(x='Sex', y='Survived', data=df)\n",
    "plt.title(\"Survival Rate by Gender\")\n",
    "plt.show()"
   ]
  },
  {
   "cell_type": "code",
   "execution_count": null,
   "id": "6b6f4432",
   "metadata": {},
   "outputs": [],
   "source": [
    "sns.barplot(x='Pclass', y='Survived', data=df)\n",
    "plt.title(\"Survival Rate by Passenger Class\")\n",
    "plt.show()"
   ]
  },
  {
   "cell_type": "code",
   "execution_count": null,
   "id": "53e4e2e6",
   "metadata": {},
   "outputs": [],
   "source": [
    "plt.figure(figsize=(8,6))\n",
    "sns.heatmap(df.corr(numeric_only=True), annot=True, cmap='coolwarm')\n",
    "plt.title(\"Correlation Heatmap\")\n",
    "plt.show()"
   ]
  }
 ],
 "metadata": {
  "kernelspec": {
   "display_name": "Python 3",
   "language": "python",
   "name": "python3"
  },
  "language_info": {
   "codemirror_mode": {
    "name": "ipython",
    "version": 3
   },
   "file_extension": ".py",
   "mimetype": "text/x-python",
   "name": "python",
   "nbconvert_exporter": "python",
   "pygments_lexer": "ipython3",
   "version": "3.14.0"
  }
 },
 "nbformat": 4,
 "nbformat_minor": 5
}
